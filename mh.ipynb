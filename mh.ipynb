{
 "cells": [
  {
   "cell_type": "code",
   "execution_count": 1,
   "id": "17aa28e0",
   "metadata": {},
   "outputs": [],
   "source": [
    "l = [1, 2, 3, 2, 4, 2, 3, 5, 3, 2]"
   ]
  },
  {
   "cell_type": "code",
   "execution_count": 2,
   "id": "3e2c4211",
   "metadata": {},
   "outputs": [
    {
     "data": {
      "text/plain": [
       "10"
      ]
     },
     "execution_count": 2,
     "metadata": {},
     "output_type": "execute_result"
    }
   ],
   "source": [
    "len(l)"
   ]
  },
  {
   "cell_type": "code",
   "execution_count": 8,
   "id": "139cd91e",
   "metadata": {},
   "outputs": [
    {
     "data": {
      "text/plain": [
       "27"
      ]
     },
     "execution_count": 8,
     "metadata": {},
     "output_type": "execute_result"
    }
   ],
   "source": [
    "sum(l)"
   ]
  },
  {
   "cell_type": "code",
   "execution_count": 3,
   "id": "2bd447f2",
   "metadata": {},
   "outputs": [],
   "source": [
    "import time"
   ]
  },
  {
   "cell_type": "code",
   "execution_count": 7,
   "id": "431ee595",
   "metadata": {},
   "outputs": [
    {
     "name": "stdout",
     "output_type": "stream",
     "text": [
      "sleeping for 1\n",
      "sleeping for 2\n",
      "sleeping for 3\n",
      "sleeping for 2\n",
      "sleeping for 4\n",
      "sleeping for 2\n",
      "sleeping for 3\n",
      "sleeping for 5\n",
      "sleeping for 3\n",
      "sleeping for 2\n"
     ]
    }
   ],
   "source": [
    "for i in l:\n",
    "  print(f'sleeping for {i}')\n",
    "  time.sleep(i)"
   ]
  },
  {
   "cell_type": "code",
   "execution_count": 9,
   "id": "a3bdfc67",
   "metadata": {},
   "outputs": [],
   "source": [
    "import multiprocessing"
   ]
  },
  {
   "cell_type": "code",
   "execution_count": 11,
   "id": "6338bbe1",
   "metadata": {},
   "outputs": [],
   "source": [
    "pool = multiprocessing.Pool(4)"
   ]
  },
  {
   "cell_type": "code",
   "execution_count": 12,
   "id": "e41c7175",
   "metadata": {},
   "outputs": [
    {
     "data": {
      "text/plain": [
       "[None, None, None, None, None, None, None, None, None, None]"
      ]
     },
     "execution_count": 12,
     "metadata": {},
     "output_type": "execute_result"
    }
   ],
   "source": [
    "pool.map(time.sleep, l)"
   ]
  },
  {
   "cell_type": "code",
   "execution_count": 13,
   "id": "da888c39",
   "metadata": {},
   "outputs": [],
   "source": [
    "from mpdemo import mysleep"
   ]
  },
  {
   "cell_type": "code",
   "execution_count": 14,
   "id": "160f2e99",
   "metadata": {},
   "outputs": [
    {
     "name": "stdout",
     "output_type": "stream",
     "text": [
      "sleeping for 2\n"
     ]
    }
   ],
   "source": [
    "mysleep(2)"
   ]
  },
  {
   "cell_type": "code",
   "execution_count": 15,
   "id": "a8f63052",
   "metadata": {},
   "outputs": [
    {
     "data": {
      "text/plain": [
       "[None, None, None, None, None, None, None, None, None, None]"
      ]
     },
     "execution_count": 15,
     "metadata": {},
     "output_type": "execute_result"
    }
   ],
   "source": [
    "pool.map(mysleep, l)"
   ]
  },
  {
   "cell_type": "code",
   "execution_count": null,
   "id": "c978341e",
   "metadata": {},
   "outputs": [],
   "source": []
  }
 ],
 "metadata": {
  "kernelspec": {
   "display_name": "pr-venv",
   "language": "python",
   "name": "python3"
  },
  "language_info": {
   "codemirror_mode": {
    "name": "ipython",
    "version": 3
   },
   "file_extension": ".py",
   "mimetype": "text/x-python",
   "name": "python",
   "nbconvert_exporter": "python",
   "pygments_lexer": "ipython3",
   "version": "3.12.1"
  }
 },
 "nbformat": 4,
 "nbformat_minor": 5
}
